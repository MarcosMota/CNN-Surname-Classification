{
 "metadata": {
  "orig_nbformat": 2,
  "kernelspec": {
   "name": "data-analysis",
   "display_name": "Python (data-analysis)",
   "language": "python"
  }
 },
 "nbformat": 4,
 "nbformat_minor": 2,
 "cells": [
  {
   "cell_type": "code",
   "execution_count": 7,
   "metadata": {},
   "outputs": [],
   "source": [
    "import numpy as np\n",
    "import pandas as pd\n",
    "\n",
    "def load_data(path, column_text=\"surname\", column_label='nationality'):\n",
    "  \"\"\"\n",
    "  Carrega o dataset Ag News\n",
    "  Return:\n",
    "    training_sentences - Texto da notíca (Treino)\n",
    "    training_labels - Label da da notíca (Treino)\n",
    "    testing_sentences  Texto da notíca (Teste)\n",
    "    testing_labels - Label da notíca (Teste)\n",
    "  \"\"\"\n",
    "  data = pd.read_csv(path)\n",
    "\n",
    "  training_sentences = []\n",
    "  training_labels = []\n",
    "\n",
    "  testing_sentences = []\n",
    "  testing_labels = []\n",
    "\n",
    "  for train in data[data['split']  == 'train']:\n",
    "    training_sentences.append(str(train['f{column_text}'].numpy()))\n",
    "    training_labels.append(train[column_label].numpy())\n",
    "    \n",
    "  for test in data['test']:\n",
    "    testing_sentences.append(str(test[column_text].numpy()))\n",
    "    testing_labels.append(test[column_label].numpy())\n",
    "\n",
    "  return training_sentences, np.array(training_labels),  testing_sentences, np.array(testing_labels)\n"
   ]
  },
  {
   "cell_type": "code",
   "execution_count": 8,
   "metadata": {},
   "outputs": [
    {
     "output_type": "error",
     "ename": "TypeError",
     "evalue": "string indices must be integers",
     "traceback": [
      "\u001b[1;31m---------------------------------------------------------------------------\u001b[0m",
      "\u001b[1;31mTypeError\u001b[0m                                 Traceback (most recent call last)",
      "\u001b[1;32m<ipython-input-8-7c92bff74948>\u001b[0m in \u001b[0;36m<module>\u001b[1;34m\u001b[0m\n\u001b[0;32m      2\u001b[0m \u001b[1;32mimport\u001b[0m \u001b[0mpandas\u001b[0m \u001b[1;32mas\u001b[0m \u001b[0mpd\u001b[0m\u001b[1;33m\u001b[0m\u001b[1;33m\u001b[0m\u001b[0m\n\u001b[0;32m      3\u001b[0m \u001b[1;33m\u001b[0m\u001b[0m\n\u001b[1;32m----> 4\u001b[1;33m \u001b[0mdata\u001b[0m \u001b[1;33m=\u001b[0m \u001b[0mload_data\u001b[0m\u001b[1;33m(\u001b[0m\u001b[0mpath\u001b[0m\u001b[1;33m=\u001b[0m\u001b[1;34m'surnames/dataset.csv'\u001b[0m\u001b[1;33m)\u001b[0m\u001b[1;33m\u001b[0m\u001b[1;33m\u001b[0m\u001b[0m\n\u001b[0m\u001b[0;32m      5\u001b[0m \u001b[1;33m\u001b[0m\u001b[0m\n",
      "\u001b[1;32m<ipython-input-7-5b9462e87742>\u001b[0m in \u001b[0;36mload_data\u001b[1;34m(path, column_text, column_label)\u001b[0m\n\u001b[0;32m     20\u001b[0m \u001b[1;33m\u001b[0m\u001b[0m\n\u001b[0;32m     21\u001b[0m   \u001b[1;32mfor\u001b[0m \u001b[0mtrain\u001b[0m \u001b[1;32min\u001b[0m \u001b[0mdata\u001b[0m\u001b[1;33m[\u001b[0m\u001b[0mdata\u001b[0m\u001b[1;33m[\u001b[0m\u001b[1;34m'split'\u001b[0m\u001b[1;33m]\u001b[0m  \u001b[1;33m==\u001b[0m \u001b[1;34m'train'\u001b[0m\u001b[1;33m]\u001b[0m\u001b[1;33m:\u001b[0m\u001b[1;33m\u001b[0m\u001b[1;33m\u001b[0m\u001b[0m\n\u001b[1;32m---> 22\u001b[1;33m     \u001b[0mtraining_sentences\u001b[0m\u001b[1;33m.\u001b[0m\u001b[0mappend\u001b[0m\u001b[1;33m(\u001b[0m\u001b[0mstr\u001b[0m\u001b[1;33m(\u001b[0m\u001b[0mtrain\u001b[0m\u001b[1;33m[\u001b[0m\u001b[1;34m'f{column_text}'\u001b[0m\u001b[1;33m]\u001b[0m\u001b[1;33m.\u001b[0m\u001b[0mnumpy\u001b[0m\u001b[1;33m(\u001b[0m\u001b[1;33m)\u001b[0m\u001b[1;33m)\u001b[0m\u001b[1;33m)\u001b[0m\u001b[1;33m\u001b[0m\u001b[1;33m\u001b[0m\u001b[0m\n\u001b[0m\u001b[0;32m     23\u001b[0m     \u001b[0mtraining_labels\u001b[0m\u001b[1;33m.\u001b[0m\u001b[0mappend\u001b[0m\u001b[1;33m(\u001b[0m\u001b[0mtrain\u001b[0m\u001b[1;33m[\u001b[0m\u001b[0mcolumn_label\u001b[0m\u001b[1;33m]\u001b[0m\u001b[1;33m.\u001b[0m\u001b[0mnumpy\u001b[0m\u001b[1;33m(\u001b[0m\u001b[1;33m)\u001b[0m\u001b[1;33m)\u001b[0m\u001b[1;33m\u001b[0m\u001b[1;33m\u001b[0m\u001b[0m\n\u001b[0;32m     24\u001b[0m \u001b[1;33m\u001b[0m\u001b[0m\n",
      "\u001b[1;31mTypeError\u001b[0m: string indices must be integers"
     ]
    }
   ],
   "source": [
    "import numpy as np\n",
    "import pandas as pd\n",
    "\n",
    "data = load_data(path='surnames/dataset.csv')\n",
    "\n"
   ]
  },
  {
   "cell_type": "code",
   "execution_count": null,
   "metadata": {},
   "outputs": [],
   "source": [
    "from argparse import Namespace\n",
    "\n",
    "args = Namespace(\n",
    "    folder_model = 'models',\n",
    "    vocab_size=10000,\n",
    "    embedding_dim = 16,\n",
    "    max_length = 120,\n",
    "    trunc_type='post',\n",
    "    oov_tok = \"<OOV>\",\n",
    "    classes_n = len(np.unique(testing_labels)),\n",
    "    hidden_layers = 8,\n",
    "    earlyStopping = 2,\n",
    "    epoch = 5,\n",
    "    batch_size = 32\n",
    ")"
   ]
  }
 ]
}